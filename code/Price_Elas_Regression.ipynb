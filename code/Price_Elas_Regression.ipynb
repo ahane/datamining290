{
 "metadata": {
  "name": "Price_Elas_Regression"
 },
 "nbformat": 3,
 "nbformat_minor": 0,
 "worksheets": [
  {
   "cells": [
    {
     "cell_type": "code",
     "collapsed": false,
     "input": [
      "import pandas as pd\n",
      "from math import log, exp\n",
      "from scipy.stats import linregress"
     ],
     "language": "python",
     "metadata": {},
     "outputs": [],
     "prompt_number": 128
    },
    {
     "cell_type": "code",
     "collapsed": false,
     "input": [
      "data = pd.read_csv('price-elasticity.csv')"
     ],
     "language": "python",
     "metadata": {},
     "outputs": [],
     "prompt_number": 129
    },
    {
     "cell_type": "code",
     "collapsed": false,
     "input": [
      "data.head()"
     ],
     "language": "python",
     "metadata": {},
     "outputs": [
      {
       "html": [
        "<div style=\"max-height:1000px;max-width:1500px;overflow:auto;\">\n",
        "<table border=\"1\" class=\"dataframe\">\n",
        "  <thead>\n",
        "    <tr style=\"text-align: right;\">\n",
        "      <th></th>\n",
        "      <th>DOW</th>\n",
        "      <th>Rooms</th>\n",
        "      <th>Rate</th>\n",
        "    </tr>\n",
        "  </thead>\n",
        "  <tbody>\n",
        "    <tr>\n",
        "      <th>0</th>\n",
        "      <td> 1</td>\n",
        "      <td>  700</td>\n",
        "      <td> $216.79 </td>\n",
        "    </tr>\n",
        "    <tr>\n",
        "      <th>1</th>\n",
        "      <td> 1</td>\n",
        "      <td> 1020</td>\n",
        "      <td> $201.64 </td>\n",
        "    </tr>\n",
        "    <tr>\n",
        "      <th>2</th>\n",
        "      <td> 1</td>\n",
        "      <td> 1327</td>\n",
        "      <td> $136.60 </td>\n",
        "    </tr>\n",
        "    <tr>\n",
        "      <th>3</th>\n",
        "      <td> 1</td>\n",
        "      <td> 2087</td>\n",
        "      <td> $118.10 </td>\n",
        "    </tr>\n",
        "    <tr>\n",
        "      <th>4</th>\n",
        "      <td> 1</td>\n",
        "      <td>  757</td>\n",
        "      <td> $179.12 </td>\n",
        "    </tr>\n",
        "  </tbody>\n",
        "</table>\n",
        "</div>"
       ],
       "output_type": "pyout",
       "prompt_number": 130,
       "text": [
        "   DOW  Rooms      Rate\n",
        "0    1    700  $216.79 \n",
        "1    1   1020  $201.64 \n",
        "2    1   1327  $136.60 \n",
        "3    1   2087  $118.10 \n",
        "4    1    757  $179.12 "
       ]
      }
     ],
     "prompt_number": 130
    },
    {
     "cell_type": "code",
     "collapsed": false,
     "input": [
      "data['daytype'] = data['DOW'].apply(lambda x: 'wd' if x < 6 else 'we')\n",
      "data['log_rate'] = data['Rate'].apply(lambda x: log(float(x[1:])) )\n",
      "data['log_rooms'] = data['Rooms'].apply(lambda x: log(int(x)))"
     ],
     "language": "python",
     "metadata": {},
     "outputs": [],
     "prompt_number": 131
    },
    {
     "cell_type": "code",
     "collapsed": false,
     "input": [
      "data.head()"
     ],
     "language": "python",
     "metadata": {},
     "outputs": [
      {
       "html": [
        "<div style=\"max-height:1000px;max-width:1500px;overflow:auto;\">\n",
        "<table border=\"1\" class=\"dataframe\">\n",
        "  <thead>\n",
        "    <tr style=\"text-align: right;\">\n",
        "      <th></th>\n",
        "      <th>DOW</th>\n",
        "      <th>Rooms</th>\n",
        "      <th>Rate</th>\n",
        "      <th>daytype</th>\n",
        "      <th>log_rate</th>\n",
        "      <th>log_rooms</th>\n",
        "    </tr>\n",
        "  </thead>\n",
        "  <tbody>\n",
        "    <tr>\n",
        "      <th>0</th>\n",
        "      <td> 1</td>\n",
        "      <td>  700</td>\n",
        "      <td> $216.79 </td>\n",
        "      <td> wd</td>\n",
        "      <td> 5.378929</td>\n",
        "      <td> 6.551080</td>\n",
        "    </tr>\n",
        "    <tr>\n",
        "      <th>1</th>\n",
        "      <td> 1</td>\n",
        "      <td> 1020</td>\n",
        "      <td> $201.64 </td>\n",
        "      <td> wd</td>\n",
        "      <td> 5.306484</td>\n",
        "      <td> 6.927558</td>\n",
        "    </tr>\n",
        "    <tr>\n",
        "      <th>2</th>\n",
        "      <td> 1</td>\n",
        "      <td> 1327</td>\n",
        "      <td> $136.60 </td>\n",
        "      <td> wd</td>\n",
        "      <td> 4.917057</td>\n",
        "      <td> 7.190676</td>\n",
        "    </tr>\n",
        "    <tr>\n",
        "      <th>3</th>\n",
        "      <td> 1</td>\n",
        "      <td> 2087</td>\n",
        "      <td> $118.10 </td>\n",
        "      <td> wd</td>\n",
        "      <td> 4.771532</td>\n",
        "      <td> 7.643483</td>\n",
        "    </tr>\n",
        "    <tr>\n",
        "      <th>4</th>\n",
        "      <td> 1</td>\n",
        "      <td>  757</td>\n",
        "      <td> $179.12 </td>\n",
        "      <td> wd</td>\n",
        "      <td> 5.188056</td>\n",
        "      <td> 6.629363</td>\n",
        "    </tr>\n",
        "  </tbody>\n",
        "</table>\n",
        "</div>"
       ],
       "output_type": "pyout",
       "prompt_number": 132,
       "text": [
        "   DOW  Rooms      Rate daytype  log_rate  log_rooms\n",
        "0    1    700  $216.79       wd  5.378929   6.551080\n",
        "1    1   1020  $201.64       wd  5.306484   6.927558\n",
        "2    1   1327  $136.60       wd  4.917057   7.190676\n",
        "3    1   2087  $118.10       wd  4.771532   7.643483\n",
        "4    1    757  $179.12       wd  5.188056   6.629363"
       ]
      }
     ],
     "prompt_number": 132
    },
    {
     "cell_type": "code",
     "collapsed": false,
     "input": [
      "grouped = data.groupby('daytype')"
     ],
     "language": "python",
     "metadata": {},
     "outputs": [],
     "prompt_number": 133
    },
    {
     "cell_type": "code",
     "collapsed": false,
     "input": [
      "reg_results = {}\n",
      "for daytype, df in grouped:\n",
      "    #The dependent is Q (rooms) aka the Y variable\n",
      "    #The independent is P (rate) aka the X variable\n",
      "    slope, intercept, r_value, p_value, std_err = linregress(df['log_rate'], df['log_rooms'])\n",
      "    print daytype, slope, intercept, r_value, p_value, std_err\n",
      "    reg_results[daytype] = {'base': exp(intercept), 'elasticity': slope}"
     ],
     "language": "python",
     "metadata": {},
     "outputs": [
      {
       "output_type": "stream",
       "stream": "stdout",
       "text": [
        "wd -1.76299672428 15.8214662814 -0.716264190999 1.27720678029e-51 0.0963194183347\n",
        "we -1.43691327427 14.3261893958 -0.563231113062 1.15111739253e-12 0.182791308241\n"
       ]
      }
     ],
     "prompt_number": 134
    },
    {
     "cell_type": "code",
     "collapsed": false,
     "input": [
      "\n",
      "curr_revenue =(total_rooms - avail)*curr_price"
     ],
     "language": "python",
     "metadata": {},
     "outputs": [],
     "prompt_number": 135
    },
    {
     "cell_type": "code",
     "collapsed": false,
     "input": [
      "reg_results"
     ],
     "language": "python",
     "metadata": {},
     "outputs": [
      {
       "output_type": "pyout",
       "prompt_number": 136,
       "text": [
        "{'wd': {'base': 7433194.581699178, 'elasticity': -1.7629967242786968},\n",
        " 'we': {'base': 1666422.0414681965, 'elasticity': -1.4369132742655439}}"
       ]
      }
     ],
     "prompt_number": 136
    },
    {
     "cell_type": "markdown",
     "metadata": {},
     "source": [
      "The elasticity for weekdays is e= -1.76 and e= -1.44 for weekends"
     ]
    },
    {
     "cell_type": "code",
     "collapsed": false,
     "input": [
      "def calc_revenue(base_price, base_demand, e, price_change, rooms):\n",
      "    new_price = (base_price + price_change)\n",
      "    price_change_ratio = (float(price_change)/base_price)\n",
      "    demand_change = ((e * price_change_ratio) + 1)\n",
      "    new_demand = demand_change * base_demand\n",
      "    effective_demand = min(rooms, new_demand) \n",
      "    return ((new_price * effective_demand), effective_demand)"
     ],
     "language": "python",
     "metadata": {},
     "outputs": [],
     "prompt_number": 137
    },
    {
     "cell_type": "code",
     "collapsed": false,
     "input": [
      "calc_revenue(curr_price, total_demand, reg_results['wd']['elasticity'], 102, rooms)"
     ],
     "language": "python",
     "metadata": {},
     "outputs": [
      {
       "output_type": "pyout",
       "prompt_number": 138,
       "text": [
        "(30200, 100)"
       ]
      }
     ],
     "prompt_number": 138
    },
    {
     "cell_type": "code",
     "collapsed": false,
     "input": [
      "#naive maximum finding:\n",
      "total_demand = 1000\n",
      "curr_price = 200\n",
      "rooms = 100\n",
      "price_rev_weekday = []\n",
      "price_rev_weekend = []\n",
      "for price_div in range(-200, 200):\n",
      "    wd_rev = calc_revenue(curr_price, total_demand, reg_results['wd']['elasticity'], price_div, rooms)[0]\n",
      "    price_rev_weekday.append((wd_rev, curr_price+price_div))\n",
      "    \n",
      "    we_rev = calc_revenue(curr_price, total_demand, reg_results['we']['elasticity'], price_div, rooms)[0]\n",
      "    price_rev_weekend.append((we_rev, curr_price+price_div))"
     ],
     "language": "python",
     "metadata": {},
     "outputs": [],
     "prompt_number": 139
    },
    {
     "cell_type": "code",
     "collapsed": false,
     "input": [
      "max(price_rev_weekday)"
     ],
     "language": "python",
     "metadata": {},
     "outputs": [
      {
       "output_type": "pyout",
       "prompt_number": 140,
       "text": [
        "(30200, 302)"
       ]
      }
     ],
     "prompt_number": 140
    },
    {
     "cell_type": "code",
     "collapsed": false,
     "input": [
      "max(price_rev_weekend)"
     ],
     "language": "python",
     "metadata": {},
     "outputs": [
      {
       "output_type": "pyout",
       "prompt_number": 141,
       "text": [
        "(32500, 325)"
       ]
      }
     ],
     "prompt_number": 141
    },
    {
     "cell_type": "markdown",
     "metadata": {},
     "source": [
      "We set the price to be USD 325 on Weekends and USD 302 during the Week"
     ]
    },
    {
     "cell_type": "code",
     "collapsed": false,
     "input": [],
     "language": "python",
     "metadata": {},
     "outputs": [],
     "prompt_number": 141
    }
   ],
   "metadata": {}
  }
 ]
}